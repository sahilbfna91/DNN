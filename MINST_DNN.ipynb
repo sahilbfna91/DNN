{
  "nbformat": 4,
  "nbformat_minor": 0,
  "metadata": {
    "colab": {
      "name": "MINST_DNN.ipynb",
      "provenance": [],
      "collapsed_sections": []
    },
    "kernelspec": {
      "name": "python3",
      "display_name": "Python 3"
    },
    "language_info": {
      "name": "python"
    },
    "widgets": {
      "application/vnd.jupyter.widget-state+json": {
        "1a91b533c8e045388050511129c85485": {
          "model_module": "@jupyter-widgets/controls",
          "model_name": "HBoxModel",
          "model_module_version": "1.5.0",
          "state": {
            "_dom_classes": [],
            "_model_module": "@jupyter-widgets/controls",
            "_model_module_version": "1.5.0",
            "_model_name": "HBoxModel",
            "_view_count": null,
            "_view_module": "@jupyter-widgets/controls",
            "_view_module_version": "1.5.0",
            "_view_name": "HBoxView",
            "box_style": "",
            "children": [
              "IPY_MODEL_3cedaed3fe9f44d0b0203a6d795cc906",
              "IPY_MODEL_b1ed5dfa3e384698b4cda94802543088",
              "IPY_MODEL_769dd6f823dd4b44ac4bb5d60a396c3c"
            ],
            "layout": "IPY_MODEL_ad681d26cb834576a2d9b09a98c8d0f3"
          }
        },
        "3cedaed3fe9f44d0b0203a6d795cc906": {
          "model_module": "@jupyter-widgets/controls",
          "model_name": "HTMLModel",
          "model_module_version": "1.5.0",
          "state": {
            "_dom_classes": [],
            "_model_module": "@jupyter-widgets/controls",
            "_model_module_version": "1.5.0",
            "_model_name": "HTMLModel",
            "_view_count": null,
            "_view_module": "@jupyter-widgets/controls",
            "_view_module_version": "1.5.0",
            "_view_name": "HTMLView",
            "description": "",
            "description_tooltip": null,
            "layout": "IPY_MODEL_0ba0859c93754a2aa9458a094595324b",
            "placeholder": "​",
            "style": "IPY_MODEL_97739b7b91cd43e5ba1665cf66efb32b",
            "value": ""
          }
        },
        "b1ed5dfa3e384698b4cda94802543088": {
          "model_module": "@jupyter-widgets/controls",
          "model_name": "FloatProgressModel",
          "model_module_version": "1.5.0",
          "state": {
            "_dom_classes": [],
            "_model_module": "@jupyter-widgets/controls",
            "_model_module_version": "1.5.0",
            "_model_name": "FloatProgressModel",
            "_view_count": null,
            "_view_module": "@jupyter-widgets/controls",
            "_view_module_version": "1.5.0",
            "_view_name": "ProgressView",
            "bar_style": "success",
            "description": "",
            "description_tooltip": null,
            "layout": "IPY_MODEL_472ba7382afb4682bdda0dd627aa7b8b",
            "max": 9912422,
            "min": 0,
            "orientation": "horizontal",
            "style": "IPY_MODEL_c39e16bf34364153abfac523c59a4fb5",
            "value": 9912422
          }
        },
        "769dd6f823dd4b44ac4bb5d60a396c3c": {
          "model_module": "@jupyter-widgets/controls",
          "model_name": "HTMLModel",
          "model_module_version": "1.5.0",
          "state": {
            "_dom_classes": [],
            "_model_module": "@jupyter-widgets/controls",
            "_model_module_version": "1.5.0",
            "_model_name": "HTMLModel",
            "_view_count": null,
            "_view_module": "@jupyter-widgets/controls",
            "_view_module_version": "1.5.0",
            "_view_name": "HTMLView",
            "description": "",
            "description_tooltip": null,
            "layout": "IPY_MODEL_c5dc3371e5be4f0f8e9788ebb795ddae",
            "placeholder": "​",
            "style": "IPY_MODEL_7d4cc12adebf4567bc41f80cb50a24f2",
            "value": " 9913344/? [00:00&lt;00:00, 7645054.58it/s]"
          }
        },
        "ad681d26cb834576a2d9b09a98c8d0f3": {
          "model_module": "@jupyter-widgets/base",
          "model_name": "LayoutModel",
          "model_module_version": "1.2.0",
          "state": {
            "_model_module": "@jupyter-widgets/base",
            "_model_module_version": "1.2.0",
            "_model_name": "LayoutModel",
            "_view_count": null,
            "_view_module": "@jupyter-widgets/base",
            "_view_module_version": "1.2.0",
            "_view_name": "LayoutView",
            "align_content": null,
            "align_items": null,
            "align_self": null,
            "border": null,
            "bottom": null,
            "display": null,
            "flex": null,
            "flex_flow": null,
            "grid_area": null,
            "grid_auto_columns": null,
            "grid_auto_flow": null,
            "grid_auto_rows": null,
            "grid_column": null,
            "grid_gap": null,
            "grid_row": null,
            "grid_template_areas": null,
            "grid_template_columns": null,
            "grid_template_rows": null,
            "height": null,
            "justify_content": null,
            "justify_items": null,
            "left": null,
            "margin": null,
            "max_height": null,
            "max_width": null,
            "min_height": null,
            "min_width": null,
            "object_fit": null,
            "object_position": null,
            "order": null,
            "overflow": null,
            "overflow_x": null,
            "overflow_y": null,
            "padding": null,
            "right": null,
            "top": null,
            "visibility": null,
            "width": null
          }
        },
        "0ba0859c93754a2aa9458a094595324b": {
          "model_module": "@jupyter-widgets/base",
          "model_name": "LayoutModel",
          "model_module_version": "1.2.0",
          "state": {
            "_model_module": "@jupyter-widgets/base",
            "_model_module_version": "1.2.0",
            "_model_name": "LayoutModel",
            "_view_count": null,
            "_view_module": "@jupyter-widgets/base",
            "_view_module_version": "1.2.0",
            "_view_name": "LayoutView",
            "align_content": null,
            "align_items": null,
            "align_self": null,
            "border": null,
            "bottom": null,
            "display": null,
            "flex": null,
            "flex_flow": null,
            "grid_area": null,
            "grid_auto_columns": null,
            "grid_auto_flow": null,
            "grid_auto_rows": null,
            "grid_column": null,
            "grid_gap": null,
            "grid_row": null,
            "grid_template_areas": null,
            "grid_template_columns": null,
            "grid_template_rows": null,
            "height": null,
            "justify_content": null,
            "justify_items": null,
            "left": null,
            "margin": null,
            "max_height": null,
            "max_width": null,
            "min_height": null,
            "min_width": null,
            "object_fit": null,
            "object_position": null,
            "order": null,
            "overflow": null,
            "overflow_x": null,
            "overflow_y": null,
            "padding": null,
            "right": null,
            "top": null,
            "visibility": null,
            "width": null
          }
        },
        "97739b7b91cd43e5ba1665cf66efb32b": {
          "model_module": "@jupyter-widgets/controls",
          "model_name": "DescriptionStyleModel",
          "model_module_version": "1.5.0",
          "state": {
            "_model_module": "@jupyter-widgets/controls",
            "_model_module_version": "1.5.0",
            "_model_name": "DescriptionStyleModel",
            "_view_count": null,
            "_view_module": "@jupyter-widgets/base",
            "_view_module_version": "1.2.0",
            "_view_name": "StyleView",
            "description_width": ""
          }
        },
        "472ba7382afb4682bdda0dd627aa7b8b": {
          "model_module": "@jupyter-widgets/base",
          "model_name": "LayoutModel",
          "model_module_version": "1.2.0",
          "state": {
            "_model_module": "@jupyter-widgets/base",
            "_model_module_version": "1.2.0",
            "_model_name": "LayoutModel",
            "_view_count": null,
            "_view_module": "@jupyter-widgets/base",
            "_view_module_version": "1.2.0",
            "_view_name": "LayoutView",
            "align_content": null,
            "align_items": null,
            "align_self": null,
            "border": null,
            "bottom": null,
            "display": null,
            "flex": null,
            "flex_flow": null,
            "grid_area": null,
            "grid_auto_columns": null,
            "grid_auto_flow": null,
            "grid_auto_rows": null,
            "grid_column": null,
            "grid_gap": null,
            "grid_row": null,
            "grid_template_areas": null,
            "grid_template_columns": null,
            "grid_template_rows": null,
            "height": null,
            "justify_content": null,
            "justify_items": null,
            "left": null,
            "margin": null,
            "max_height": null,
            "max_width": null,
            "min_height": null,
            "min_width": null,
            "object_fit": null,
            "object_position": null,
            "order": null,
            "overflow": null,
            "overflow_x": null,
            "overflow_y": null,
            "padding": null,
            "right": null,
            "top": null,
            "visibility": null,
            "width": null
          }
        },
        "c39e16bf34364153abfac523c59a4fb5": {
          "model_module": "@jupyter-widgets/controls",
          "model_name": "ProgressStyleModel",
          "model_module_version": "1.5.0",
          "state": {
            "_model_module": "@jupyter-widgets/controls",
            "_model_module_version": "1.5.0",
            "_model_name": "ProgressStyleModel",
            "_view_count": null,
            "_view_module": "@jupyter-widgets/base",
            "_view_module_version": "1.2.0",
            "_view_name": "StyleView",
            "bar_color": null,
            "description_width": ""
          }
        },
        "c5dc3371e5be4f0f8e9788ebb795ddae": {
          "model_module": "@jupyter-widgets/base",
          "model_name": "LayoutModel",
          "model_module_version": "1.2.0",
          "state": {
            "_model_module": "@jupyter-widgets/base",
            "_model_module_version": "1.2.0",
            "_model_name": "LayoutModel",
            "_view_count": null,
            "_view_module": "@jupyter-widgets/base",
            "_view_module_version": "1.2.0",
            "_view_name": "LayoutView",
            "align_content": null,
            "align_items": null,
            "align_self": null,
            "border": null,
            "bottom": null,
            "display": null,
            "flex": null,
            "flex_flow": null,
            "grid_area": null,
            "grid_auto_columns": null,
            "grid_auto_flow": null,
            "grid_auto_rows": null,
            "grid_column": null,
            "grid_gap": null,
            "grid_row": null,
            "grid_template_areas": null,
            "grid_template_columns": null,
            "grid_template_rows": null,
            "height": null,
            "justify_content": null,
            "justify_items": null,
            "left": null,
            "margin": null,
            "max_height": null,
            "max_width": null,
            "min_height": null,
            "min_width": null,
            "object_fit": null,
            "object_position": null,
            "order": null,
            "overflow": null,
            "overflow_x": null,
            "overflow_y": null,
            "padding": null,
            "right": null,
            "top": null,
            "visibility": null,
            "width": null
          }
        },
        "7d4cc12adebf4567bc41f80cb50a24f2": {
          "model_module": "@jupyter-widgets/controls",
          "model_name": "DescriptionStyleModel",
          "model_module_version": "1.5.0",
          "state": {
            "_model_module": "@jupyter-widgets/controls",
            "_model_module_version": "1.5.0",
            "_model_name": "DescriptionStyleModel",
            "_view_count": null,
            "_view_module": "@jupyter-widgets/base",
            "_view_module_version": "1.2.0",
            "_view_name": "StyleView",
            "description_width": ""
          }
        },
        "ceaffc9450304fcfba53b72230772c9b": {
          "model_module": "@jupyter-widgets/controls",
          "model_name": "HBoxModel",
          "model_module_version": "1.5.0",
          "state": {
            "_dom_classes": [],
            "_model_module": "@jupyter-widgets/controls",
            "_model_module_version": "1.5.0",
            "_model_name": "HBoxModel",
            "_view_count": null,
            "_view_module": "@jupyter-widgets/controls",
            "_view_module_version": "1.5.0",
            "_view_name": "HBoxView",
            "box_style": "",
            "children": [
              "IPY_MODEL_c26bdec9eef84ef3936ffec6ed9567a9",
              "IPY_MODEL_2eebe538517e480889420e85af5742af",
              "IPY_MODEL_c9009d66c9064c6f9bcbdd7d2240d7d7"
            ],
            "layout": "IPY_MODEL_fe243b11cf854b5cafe8c7d864328e08"
          }
        },
        "c26bdec9eef84ef3936ffec6ed9567a9": {
          "model_module": "@jupyter-widgets/controls",
          "model_name": "HTMLModel",
          "model_module_version": "1.5.0",
          "state": {
            "_dom_classes": [],
            "_model_module": "@jupyter-widgets/controls",
            "_model_module_version": "1.5.0",
            "_model_name": "HTMLModel",
            "_view_count": null,
            "_view_module": "@jupyter-widgets/controls",
            "_view_module_version": "1.5.0",
            "_view_name": "HTMLView",
            "description": "",
            "description_tooltip": null,
            "layout": "IPY_MODEL_bed843264077406db67d90b535967112",
            "placeholder": "​",
            "style": "IPY_MODEL_10e7570d72484b0296605852c171f3ea",
            "value": ""
          }
        },
        "2eebe538517e480889420e85af5742af": {
          "model_module": "@jupyter-widgets/controls",
          "model_name": "FloatProgressModel",
          "model_module_version": "1.5.0",
          "state": {
            "_dom_classes": [],
            "_model_module": "@jupyter-widgets/controls",
            "_model_module_version": "1.5.0",
            "_model_name": "FloatProgressModel",
            "_view_count": null,
            "_view_module": "@jupyter-widgets/controls",
            "_view_module_version": "1.5.0",
            "_view_name": "ProgressView",
            "bar_style": "success",
            "description": "",
            "description_tooltip": null,
            "layout": "IPY_MODEL_d7c6166c937e408fabd425e058504807",
            "max": 28881,
            "min": 0,
            "orientation": "horizontal",
            "style": "IPY_MODEL_f770697f930747b2ac781abe1bfd7574",
            "value": 28881
          }
        },
        "c9009d66c9064c6f9bcbdd7d2240d7d7": {
          "model_module": "@jupyter-widgets/controls",
          "model_name": "HTMLModel",
          "model_module_version": "1.5.0",
          "state": {
            "_dom_classes": [],
            "_model_module": "@jupyter-widgets/controls",
            "_model_module_version": "1.5.0",
            "_model_name": "HTMLModel",
            "_view_count": null,
            "_view_module": "@jupyter-widgets/controls",
            "_view_module_version": "1.5.0",
            "_view_name": "HTMLView",
            "description": "",
            "description_tooltip": null,
            "layout": "IPY_MODEL_0f16827fd3a849a4928e40fc3a79806f",
            "placeholder": "​",
            "style": "IPY_MODEL_ac72657a5ac841b6bb6f92953f09d516",
            "value": " 29696/? [00:00&lt;00:00, 587846.31it/s]"
          }
        },
        "fe243b11cf854b5cafe8c7d864328e08": {
          "model_module": "@jupyter-widgets/base",
          "model_name": "LayoutModel",
          "model_module_version": "1.2.0",
          "state": {
            "_model_module": "@jupyter-widgets/base",
            "_model_module_version": "1.2.0",
            "_model_name": "LayoutModel",
            "_view_count": null,
            "_view_module": "@jupyter-widgets/base",
            "_view_module_version": "1.2.0",
            "_view_name": "LayoutView",
            "align_content": null,
            "align_items": null,
            "align_self": null,
            "border": null,
            "bottom": null,
            "display": null,
            "flex": null,
            "flex_flow": null,
            "grid_area": null,
            "grid_auto_columns": null,
            "grid_auto_flow": null,
            "grid_auto_rows": null,
            "grid_column": null,
            "grid_gap": null,
            "grid_row": null,
            "grid_template_areas": null,
            "grid_template_columns": null,
            "grid_template_rows": null,
            "height": null,
            "justify_content": null,
            "justify_items": null,
            "left": null,
            "margin": null,
            "max_height": null,
            "max_width": null,
            "min_height": null,
            "min_width": null,
            "object_fit": null,
            "object_position": null,
            "order": null,
            "overflow": null,
            "overflow_x": null,
            "overflow_y": null,
            "padding": null,
            "right": null,
            "top": null,
            "visibility": null,
            "width": null
          }
        },
        "bed843264077406db67d90b535967112": {
          "model_module": "@jupyter-widgets/base",
          "model_name": "LayoutModel",
          "model_module_version": "1.2.0",
          "state": {
            "_model_module": "@jupyter-widgets/base",
            "_model_module_version": "1.2.0",
            "_model_name": "LayoutModel",
            "_view_count": null,
            "_view_module": "@jupyter-widgets/base",
            "_view_module_version": "1.2.0",
            "_view_name": "LayoutView",
            "align_content": null,
            "align_items": null,
            "align_self": null,
            "border": null,
            "bottom": null,
            "display": null,
            "flex": null,
            "flex_flow": null,
            "grid_area": null,
            "grid_auto_columns": null,
            "grid_auto_flow": null,
            "grid_auto_rows": null,
            "grid_column": null,
            "grid_gap": null,
            "grid_row": null,
            "grid_template_areas": null,
            "grid_template_columns": null,
            "grid_template_rows": null,
            "height": null,
            "justify_content": null,
            "justify_items": null,
            "left": null,
            "margin": null,
            "max_height": null,
            "max_width": null,
            "min_height": null,
            "min_width": null,
            "object_fit": null,
            "object_position": null,
            "order": null,
            "overflow": null,
            "overflow_x": null,
            "overflow_y": null,
            "padding": null,
            "right": null,
            "top": null,
            "visibility": null,
            "width": null
          }
        },
        "10e7570d72484b0296605852c171f3ea": {
          "model_module": "@jupyter-widgets/controls",
          "model_name": "DescriptionStyleModel",
          "model_module_version": "1.5.0",
          "state": {
            "_model_module": "@jupyter-widgets/controls",
            "_model_module_version": "1.5.0",
            "_model_name": "DescriptionStyleModel",
            "_view_count": null,
            "_view_module": "@jupyter-widgets/base",
            "_view_module_version": "1.2.0",
            "_view_name": "StyleView",
            "description_width": ""
          }
        },
        "d7c6166c937e408fabd425e058504807": {
          "model_module": "@jupyter-widgets/base",
          "model_name": "LayoutModel",
          "model_module_version": "1.2.0",
          "state": {
            "_model_module": "@jupyter-widgets/base",
            "_model_module_version": "1.2.0",
            "_model_name": "LayoutModel",
            "_view_count": null,
            "_view_module": "@jupyter-widgets/base",
            "_view_module_version": "1.2.0",
            "_view_name": "LayoutView",
            "align_content": null,
            "align_items": null,
            "align_self": null,
            "border": null,
            "bottom": null,
            "display": null,
            "flex": null,
            "flex_flow": null,
            "grid_area": null,
            "grid_auto_columns": null,
            "grid_auto_flow": null,
            "grid_auto_rows": null,
            "grid_column": null,
            "grid_gap": null,
            "grid_row": null,
            "grid_template_areas": null,
            "grid_template_columns": null,
            "grid_template_rows": null,
            "height": null,
            "justify_content": null,
            "justify_items": null,
            "left": null,
            "margin": null,
            "max_height": null,
            "max_width": null,
            "min_height": null,
            "min_width": null,
            "object_fit": null,
            "object_position": null,
            "order": null,
            "overflow": null,
            "overflow_x": null,
            "overflow_y": null,
            "padding": null,
            "right": null,
            "top": null,
            "visibility": null,
            "width": null
          }
        },
        "f770697f930747b2ac781abe1bfd7574": {
          "model_module": "@jupyter-widgets/controls",
          "model_name": "ProgressStyleModel",
          "model_module_version": "1.5.0",
          "state": {
            "_model_module": "@jupyter-widgets/controls",
            "_model_module_version": "1.5.0",
            "_model_name": "ProgressStyleModel",
            "_view_count": null,
            "_view_module": "@jupyter-widgets/base",
            "_view_module_version": "1.2.0",
            "_view_name": "StyleView",
            "bar_color": null,
            "description_width": ""
          }
        },
        "0f16827fd3a849a4928e40fc3a79806f": {
          "model_module": "@jupyter-widgets/base",
          "model_name": "LayoutModel",
          "model_module_version": "1.2.0",
          "state": {
            "_model_module": "@jupyter-widgets/base",
            "_model_module_version": "1.2.0",
            "_model_name": "LayoutModel",
            "_view_count": null,
            "_view_module": "@jupyter-widgets/base",
            "_view_module_version": "1.2.0",
            "_view_name": "LayoutView",
            "align_content": null,
            "align_items": null,
            "align_self": null,
            "border": null,
            "bottom": null,
            "display": null,
            "flex": null,
            "flex_flow": null,
            "grid_area": null,
            "grid_auto_columns": null,
            "grid_auto_flow": null,
            "grid_auto_rows": null,
            "grid_column": null,
            "grid_gap": null,
            "grid_row": null,
            "grid_template_areas": null,
            "grid_template_columns": null,
            "grid_template_rows": null,
            "height": null,
            "justify_content": null,
            "justify_items": null,
            "left": null,
            "margin": null,
            "max_height": null,
            "max_width": null,
            "min_height": null,
            "min_width": null,
            "object_fit": null,
            "object_position": null,
            "order": null,
            "overflow": null,
            "overflow_x": null,
            "overflow_y": null,
            "padding": null,
            "right": null,
            "top": null,
            "visibility": null,
            "width": null
          }
        },
        "ac72657a5ac841b6bb6f92953f09d516": {
          "model_module": "@jupyter-widgets/controls",
          "model_name": "DescriptionStyleModel",
          "model_module_version": "1.5.0",
          "state": {
            "_model_module": "@jupyter-widgets/controls",
            "_model_module_version": "1.5.0",
            "_model_name": "DescriptionStyleModel",
            "_view_count": null,
            "_view_module": "@jupyter-widgets/base",
            "_view_module_version": "1.2.0",
            "_view_name": "StyleView",
            "description_width": ""
          }
        },
        "6eeab0045f594e5aab3c746445735a13": {
          "model_module": "@jupyter-widgets/controls",
          "model_name": "HBoxModel",
          "model_module_version": "1.5.0",
          "state": {
            "_dom_classes": [],
            "_model_module": "@jupyter-widgets/controls",
            "_model_module_version": "1.5.0",
            "_model_name": "HBoxModel",
            "_view_count": null,
            "_view_module": "@jupyter-widgets/controls",
            "_view_module_version": "1.5.0",
            "_view_name": "HBoxView",
            "box_style": "",
            "children": [
              "IPY_MODEL_c110052bd29e49c79c1b40f970808819",
              "IPY_MODEL_734390037c1242ea9d95e4f00eb70797",
              "IPY_MODEL_521ecb315ce141cf931f309b2dc12948"
            ],
            "layout": "IPY_MODEL_af89d06a53a0471aaa38b0f27dad6837"
          }
        },
        "c110052bd29e49c79c1b40f970808819": {
          "model_module": "@jupyter-widgets/controls",
          "model_name": "HTMLModel",
          "model_module_version": "1.5.0",
          "state": {
            "_dom_classes": [],
            "_model_module": "@jupyter-widgets/controls",
            "_model_module_version": "1.5.0",
            "_model_name": "HTMLModel",
            "_view_count": null,
            "_view_module": "@jupyter-widgets/controls",
            "_view_module_version": "1.5.0",
            "_view_name": "HTMLView",
            "description": "",
            "description_tooltip": null,
            "layout": "IPY_MODEL_948fa180fa88411abc9369ec688c6df2",
            "placeholder": "​",
            "style": "IPY_MODEL_a32fd5d991ec436dac7105a73f517bb4",
            "value": ""
          }
        },
        "734390037c1242ea9d95e4f00eb70797": {
          "model_module": "@jupyter-widgets/controls",
          "model_name": "FloatProgressModel",
          "model_module_version": "1.5.0",
          "state": {
            "_dom_classes": [],
            "_model_module": "@jupyter-widgets/controls",
            "_model_module_version": "1.5.0",
            "_model_name": "FloatProgressModel",
            "_view_count": null,
            "_view_module": "@jupyter-widgets/controls",
            "_view_module_version": "1.5.0",
            "_view_name": "ProgressView",
            "bar_style": "success",
            "description": "",
            "description_tooltip": null,
            "layout": "IPY_MODEL_10817027bf1b4306a35a1445a1a064b8",
            "max": 1648877,
            "min": 0,
            "orientation": "horizontal",
            "style": "IPY_MODEL_05a3cc01bc57494386f357caaa9e725f",
            "value": 1648877
          }
        },
        "521ecb315ce141cf931f309b2dc12948": {
          "model_module": "@jupyter-widgets/controls",
          "model_name": "HTMLModel",
          "model_module_version": "1.5.0",
          "state": {
            "_dom_classes": [],
            "_model_module": "@jupyter-widgets/controls",
            "_model_module_version": "1.5.0",
            "_model_name": "HTMLModel",
            "_view_count": null,
            "_view_module": "@jupyter-widgets/controls",
            "_view_module_version": "1.5.0",
            "_view_name": "HTMLView",
            "description": "",
            "description_tooltip": null,
            "layout": "IPY_MODEL_156440e389834c6a98d69d58012c66db",
            "placeholder": "​",
            "style": "IPY_MODEL_9aae32bd5a6d449680319434a222dd6e",
            "value": " 1649664/? [00:00&lt;00:00, 9074545.75it/s]"
          }
        },
        "af89d06a53a0471aaa38b0f27dad6837": {
          "model_module": "@jupyter-widgets/base",
          "model_name": "LayoutModel",
          "model_module_version": "1.2.0",
          "state": {
            "_model_module": "@jupyter-widgets/base",
            "_model_module_version": "1.2.0",
            "_model_name": "LayoutModel",
            "_view_count": null,
            "_view_module": "@jupyter-widgets/base",
            "_view_module_version": "1.2.0",
            "_view_name": "LayoutView",
            "align_content": null,
            "align_items": null,
            "align_self": null,
            "border": null,
            "bottom": null,
            "display": null,
            "flex": null,
            "flex_flow": null,
            "grid_area": null,
            "grid_auto_columns": null,
            "grid_auto_flow": null,
            "grid_auto_rows": null,
            "grid_column": null,
            "grid_gap": null,
            "grid_row": null,
            "grid_template_areas": null,
            "grid_template_columns": null,
            "grid_template_rows": null,
            "height": null,
            "justify_content": null,
            "justify_items": null,
            "left": null,
            "margin": null,
            "max_height": null,
            "max_width": null,
            "min_height": null,
            "min_width": null,
            "object_fit": null,
            "object_position": null,
            "order": null,
            "overflow": null,
            "overflow_x": null,
            "overflow_y": null,
            "padding": null,
            "right": null,
            "top": null,
            "visibility": null,
            "width": null
          }
        },
        "948fa180fa88411abc9369ec688c6df2": {
          "model_module": "@jupyter-widgets/base",
          "model_name": "LayoutModel",
          "model_module_version": "1.2.0",
          "state": {
            "_model_module": "@jupyter-widgets/base",
            "_model_module_version": "1.2.0",
            "_model_name": "LayoutModel",
            "_view_count": null,
            "_view_module": "@jupyter-widgets/base",
            "_view_module_version": "1.2.0",
            "_view_name": "LayoutView",
            "align_content": null,
            "align_items": null,
            "align_self": null,
            "border": null,
            "bottom": null,
            "display": null,
            "flex": null,
            "flex_flow": null,
            "grid_area": null,
            "grid_auto_columns": null,
            "grid_auto_flow": null,
            "grid_auto_rows": null,
            "grid_column": null,
            "grid_gap": null,
            "grid_row": null,
            "grid_template_areas": null,
            "grid_template_columns": null,
            "grid_template_rows": null,
            "height": null,
            "justify_content": null,
            "justify_items": null,
            "left": null,
            "margin": null,
            "max_height": null,
            "max_width": null,
            "min_height": null,
            "min_width": null,
            "object_fit": null,
            "object_position": null,
            "order": null,
            "overflow": null,
            "overflow_x": null,
            "overflow_y": null,
            "padding": null,
            "right": null,
            "top": null,
            "visibility": null,
            "width": null
          }
        },
        "a32fd5d991ec436dac7105a73f517bb4": {
          "model_module": "@jupyter-widgets/controls",
          "model_name": "DescriptionStyleModel",
          "model_module_version": "1.5.0",
          "state": {
            "_model_module": "@jupyter-widgets/controls",
            "_model_module_version": "1.5.0",
            "_model_name": "DescriptionStyleModel",
            "_view_count": null,
            "_view_module": "@jupyter-widgets/base",
            "_view_module_version": "1.2.0",
            "_view_name": "StyleView",
            "description_width": ""
          }
        },
        "10817027bf1b4306a35a1445a1a064b8": {
          "model_module": "@jupyter-widgets/base",
          "model_name": "LayoutModel",
          "model_module_version": "1.2.0",
          "state": {
            "_model_module": "@jupyter-widgets/base",
            "_model_module_version": "1.2.0",
            "_model_name": "LayoutModel",
            "_view_count": null,
            "_view_module": "@jupyter-widgets/base",
            "_view_module_version": "1.2.0",
            "_view_name": "LayoutView",
            "align_content": null,
            "align_items": null,
            "align_self": null,
            "border": null,
            "bottom": null,
            "display": null,
            "flex": null,
            "flex_flow": null,
            "grid_area": null,
            "grid_auto_columns": null,
            "grid_auto_flow": null,
            "grid_auto_rows": null,
            "grid_column": null,
            "grid_gap": null,
            "grid_row": null,
            "grid_template_areas": null,
            "grid_template_columns": null,
            "grid_template_rows": null,
            "height": null,
            "justify_content": null,
            "justify_items": null,
            "left": null,
            "margin": null,
            "max_height": null,
            "max_width": null,
            "min_height": null,
            "min_width": null,
            "object_fit": null,
            "object_position": null,
            "order": null,
            "overflow": null,
            "overflow_x": null,
            "overflow_y": null,
            "padding": null,
            "right": null,
            "top": null,
            "visibility": null,
            "width": null
          }
        },
        "05a3cc01bc57494386f357caaa9e725f": {
          "model_module": "@jupyter-widgets/controls",
          "model_name": "ProgressStyleModel",
          "model_module_version": "1.5.0",
          "state": {
            "_model_module": "@jupyter-widgets/controls",
            "_model_module_version": "1.5.0",
            "_model_name": "ProgressStyleModel",
            "_view_count": null,
            "_view_module": "@jupyter-widgets/base",
            "_view_module_version": "1.2.0",
            "_view_name": "StyleView",
            "bar_color": null,
            "description_width": ""
          }
        },
        "156440e389834c6a98d69d58012c66db": {
          "model_module": "@jupyter-widgets/base",
          "model_name": "LayoutModel",
          "model_module_version": "1.2.0",
          "state": {
            "_model_module": "@jupyter-widgets/base",
            "_model_module_version": "1.2.0",
            "_model_name": "LayoutModel",
            "_view_count": null,
            "_view_module": "@jupyter-widgets/base",
            "_view_module_version": "1.2.0",
            "_view_name": "LayoutView",
            "align_content": null,
            "align_items": null,
            "align_self": null,
            "border": null,
            "bottom": null,
            "display": null,
            "flex": null,
            "flex_flow": null,
            "grid_area": null,
            "grid_auto_columns": null,
            "grid_auto_flow": null,
            "grid_auto_rows": null,
            "grid_column": null,
            "grid_gap": null,
            "grid_row": null,
            "grid_template_areas": null,
            "grid_template_columns": null,
            "grid_template_rows": null,
            "height": null,
            "justify_content": null,
            "justify_items": null,
            "left": null,
            "margin": null,
            "max_height": null,
            "max_width": null,
            "min_height": null,
            "min_width": null,
            "object_fit": null,
            "object_position": null,
            "order": null,
            "overflow": null,
            "overflow_x": null,
            "overflow_y": null,
            "padding": null,
            "right": null,
            "top": null,
            "visibility": null,
            "width": null
          }
        },
        "9aae32bd5a6d449680319434a222dd6e": {
          "model_module": "@jupyter-widgets/controls",
          "model_name": "DescriptionStyleModel",
          "model_module_version": "1.5.0",
          "state": {
            "_model_module": "@jupyter-widgets/controls",
            "_model_module_version": "1.5.0",
            "_model_name": "DescriptionStyleModel",
            "_view_count": null,
            "_view_module": "@jupyter-widgets/base",
            "_view_module_version": "1.2.0",
            "_view_name": "StyleView",
            "description_width": ""
          }
        },
        "7e7280f09a8e4352911f0fd4bdd5e4d3": {
          "model_module": "@jupyter-widgets/controls",
          "model_name": "HBoxModel",
          "model_module_version": "1.5.0",
          "state": {
            "_dom_classes": [],
            "_model_module": "@jupyter-widgets/controls",
            "_model_module_version": "1.5.0",
            "_model_name": "HBoxModel",
            "_view_count": null,
            "_view_module": "@jupyter-widgets/controls",
            "_view_module_version": "1.5.0",
            "_view_name": "HBoxView",
            "box_style": "",
            "children": [
              "IPY_MODEL_41ca3c144d1f442a8b5553c67afb2742",
              "IPY_MODEL_4c66f27e82284949be60247a83b902f5",
              "IPY_MODEL_2666e6e5390d4f6e9585210f36f9e243"
            ],
            "layout": "IPY_MODEL_4b55f67c42114895b397c4cac69d251f"
          }
        },
        "41ca3c144d1f442a8b5553c67afb2742": {
          "model_module": "@jupyter-widgets/controls",
          "model_name": "HTMLModel",
          "model_module_version": "1.5.0",
          "state": {
            "_dom_classes": [],
            "_model_module": "@jupyter-widgets/controls",
            "_model_module_version": "1.5.0",
            "_model_name": "HTMLModel",
            "_view_count": null,
            "_view_module": "@jupyter-widgets/controls",
            "_view_module_version": "1.5.0",
            "_view_name": "HTMLView",
            "description": "",
            "description_tooltip": null,
            "layout": "IPY_MODEL_bff05d269e974decb23df88a31f2d510",
            "placeholder": "​",
            "style": "IPY_MODEL_eb26d887f34d400fa40b5e2b33159d5e",
            "value": ""
          }
        },
        "4c66f27e82284949be60247a83b902f5": {
          "model_module": "@jupyter-widgets/controls",
          "model_name": "FloatProgressModel",
          "model_module_version": "1.5.0",
          "state": {
            "_dom_classes": [],
            "_model_module": "@jupyter-widgets/controls",
            "_model_module_version": "1.5.0",
            "_model_name": "FloatProgressModel",
            "_view_count": null,
            "_view_module": "@jupyter-widgets/controls",
            "_view_module_version": "1.5.0",
            "_view_name": "ProgressView",
            "bar_style": "success",
            "description": "",
            "description_tooltip": null,
            "layout": "IPY_MODEL_b3de3a8525764e9593e96dc78d0668a1",
            "max": 4542,
            "min": 0,
            "orientation": "horizontal",
            "style": "IPY_MODEL_e76c04543dd24e988f3cdd16359a0505",
            "value": 4542
          }
        },
        "2666e6e5390d4f6e9585210f36f9e243": {
          "model_module": "@jupyter-widgets/controls",
          "model_name": "HTMLModel",
          "model_module_version": "1.5.0",
          "state": {
            "_dom_classes": [],
            "_model_module": "@jupyter-widgets/controls",
            "_model_module_version": "1.5.0",
            "_model_name": "HTMLModel",
            "_view_count": null,
            "_view_module": "@jupyter-widgets/controls",
            "_view_module_version": "1.5.0",
            "_view_name": "HTMLView",
            "description": "",
            "description_tooltip": null,
            "layout": "IPY_MODEL_450c19685c5c496da9e0471aa3020ba7",
            "placeholder": "​",
            "style": "IPY_MODEL_e07201e9a3c34ca4ad2c7b664eafe504",
            "value": " 5120/? [00:00&lt;00:00, 100494.34it/s]"
          }
        },
        "4b55f67c42114895b397c4cac69d251f": {
          "model_module": "@jupyter-widgets/base",
          "model_name": "LayoutModel",
          "model_module_version": "1.2.0",
          "state": {
            "_model_module": "@jupyter-widgets/base",
            "_model_module_version": "1.2.0",
            "_model_name": "LayoutModel",
            "_view_count": null,
            "_view_module": "@jupyter-widgets/base",
            "_view_module_version": "1.2.0",
            "_view_name": "LayoutView",
            "align_content": null,
            "align_items": null,
            "align_self": null,
            "border": null,
            "bottom": null,
            "display": null,
            "flex": null,
            "flex_flow": null,
            "grid_area": null,
            "grid_auto_columns": null,
            "grid_auto_flow": null,
            "grid_auto_rows": null,
            "grid_column": null,
            "grid_gap": null,
            "grid_row": null,
            "grid_template_areas": null,
            "grid_template_columns": null,
            "grid_template_rows": null,
            "height": null,
            "justify_content": null,
            "justify_items": null,
            "left": null,
            "margin": null,
            "max_height": null,
            "max_width": null,
            "min_height": null,
            "min_width": null,
            "object_fit": null,
            "object_position": null,
            "order": null,
            "overflow": null,
            "overflow_x": null,
            "overflow_y": null,
            "padding": null,
            "right": null,
            "top": null,
            "visibility": null,
            "width": null
          }
        },
        "bff05d269e974decb23df88a31f2d510": {
          "model_module": "@jupyter-widgets/base",
          "model_name": "LayoutModel",
          "model_module_version": "1.2.0",
          "state": {
            "_model_module": "@jupyter-widgets/base",
            "_model_module_version": "1.2.0",
            "_model_name": "LayoutModel",
            "_view_count": null,
            "_view_module": "@jupyter-widgets/base",
            "_view_module_version": "1.2.0",
            "_view_name": "LayoutView",
            "align_content": null,
            "align_items": null,
            "align_self": null,
            "border": null,
            "bottom": null,
            "display": null,
            "flex": null,
            "flex_flow": null,
            "grid_area": null,
            "grid_auto_columns": null,
            "grid_auto_flow": null,
            "grid_auto_rows": null,
            "grid_column": null,
            "grid_gap": null,
            "grid_row": null,
            "grid_template_areas": null,
            "grid_template_columns": null,
            "grid_template_rows": null,
            "height": null,
            "justify_content": null,
            "justify_items": null,
            "left": null,
            "margin": null,
            "max_height": null,
            "max_width": null,
            "min_height": null,
            "min_width": null,
            "object_fit": null,
            "object_position": null,
            "order": null,
            "overflow": null,
            "overflow_x": null,
            "overflow_y": null,
            "padding": null,
            "right": null,
            "top": null,
            "visibility": null,
            "width": null
          }
        },
        "eb26d887f34d400fa40b5e2b33159d5e": {
          "model_module": "@jupyter-widgets/controls",
          "model_name": "DescriptionStyleModel",
          "model_module_version": "1.5.0",
          "state": {
            "_model_module": "@jupyter-widgets/controls",
            "_model_module_version": "1.5.0",
            "_model_name": "DescriptionStyleModel",
            "_view_count": null,
            "_view_module": "@jupyter-widgets/base",
            "_view_module_version": "1.2.0",
            "_view_name": "StyleView",
            "description_width": ""
          }
        },
        "b3de3a8525764e9593e96dc78d0668a1": {
          "model_module": "@jupyter-widgets/base",
          "model_name": "LayoutModel",
          "model_module_version": "1.2.0",
          "state": {
            "_model_module": "@jupyter-widgets/base",
            "_model_module_version": "1.2.0",
            "_model_name": "LayoutModel",
            "_view_count": null,
            "_view_module": "@jupyter-widgets/base",
            "_view_module_version": "1.2.0",
            "_view_name": "LayoutView",
            "align_content": null,
            "align_items": null,
            "align_self": null,
            "border": null,
            "bottom": null,
            "display": null,
            "flex": null,
            "flex_flow": null,
            "grid_area": null,
            "grid_auto_columns": null,
            "grid_auto_flow": null,
            "grid_auto_rows": null,
            "grid_column": null,
            "grid_gap": null,
            "grid_row": null,
            "grid_template_areas": null,
            "grid_template_columns": null,
            "grid_template_rows": null,
            "height": null,
            "justify_content": null,
            "justify_items": null,
            "left": null,
            "margin": null,
            "max_height": null,
            "max_width": null,
            "min_height": null,
            "min_width": null,
            "object_fit": null,
            "object_position": null,
            "order": null,
            "overflow": null,
            "overflow_x": null,
            "overflow_y": null,
            "padding": null,
            "right": null,
            "top": null,
            "visibility": null,
            "width": null
          }
        },
        "e76c04543dd24e988f3cdd16359a0505": {
          "model_module": "@jupyter-widgets/controls",
          "model_name": "ProgressStyleModel",
          "model_module_version": "1.5.0",
          "state": {
            "_model_module": "@jupyter-widgets/controls",
            "_model_module_version": "1.5.0",
            "_model_name": "ProgressStyleModel",
            "_view_count": null,
            "_view_module": "@jupyter-widgets/base",
            "_view_module_version": "1.2.0",
            "_view_name": "StyleView",
            "bar_color": null,
            "description_width": ""
          }
        },
        "450c19685c5c496da9e0471aa3020ba7": {
          "model_module": "@jupyter-widgets/base",
          "model_name": "LayoutModel",
          "model_module_version": "1.2.0",
          "state": {
            "_model_module": "@jupyter-widgets/base",
            "_model_module_version": "1.2.0",
            "_model_name": "LayoutModel",
            "_view_count": null,
            "_view_module": "@jupyter-widgets/base",
            "_view_module_version": "1.2.0",
            "_view_name": "LayoutView",
            "align_content": null,
            "align_items": null,
            "align_self": null,
            "border": null,
            "bottom": null,
            "display": null,
            "flex": null,
            "flex_flow": null,
            "grid_area": null,
            "grid_auto_columns": null,
            "grid_auto_flow": null,
            "grid_auto_rows": null,
            "grid_column": null,
            "grid_gap": null,
            "grid_row": null,
            "grid_template_areas": null,
            "grid_template_columns": null,
            "grid_template_rows": null,
            "height": null,
            "justify_content": null,
            "justify_items": null,
            "left": null,
            "margin": null,
            "max_height": null,
            "max_width": null,
            "min_height": null,
            "min_width": null,
            "object_fit": null,
            "object_position": null,
            "order": null,
            "overflow": null,
            "overflow_x": null,
            "overflow_y": null,
            "padding": null,
            "right": null,
            "top": null,
            "visibility": null,
            "width": null
          }
        },
        "e07201e9a3c34ca4ad2c7b664eafe504": {
          "model_module": "@jupyter-widgets/controls",
          "model_name": "DescriptionStyleModel",
          "model_module_version": "1.5.0",
          "state": {
            "_model_module": "@jupyter-widgets/controls",
            "_model_module_version": "1.5.0",
            "_model_name": "DescriptionStyleModel",
            "_view_count": null,
            "_view_module": "@jupyter-widgets/base",
            "_view_module_version": "1.2.0",
            "_view_name": "StyleView",
            "description_width": ""
          }
        }
      }
    }
  },
  "cells": [
    {
      "cell_type": "code",
      "execution_count": 1,
      "metadata": {
        "id": "K1tuMWWkLot1"
      },
      "outputs": [],
      "source": [
        " import torch\n",
        " import torch.nn as nn \n",
        " import torchvision\n",
        " import torchvision.transforms as transforms\n",
        " import matplotlib.pyplot as plt"
      ]
    },
    {
      "cell_type": "markdown",
      "source": [
        "**Setting the Parameters**"
      ],
      "metadata": {
        "id": "bFxxbFMXE9QY"
      }
    },
    {
      "cell_type": "code",
      "source": [
        " input_size = 784 # 28x28\n",
        " hidden_size = 128 \n",
        " num_classes = 10\n",
        " num_epochs = 100\n",
        " batch_size = 1000\n",
        " learning_rate = 0.001 "
      ],
      "metadata": {
        "id": "zC9NzFLcLsG7"
      },
      "execution_count": 11,
      "outputs": []
    },
    {
      "cell_type": "markdown",
      "source": [
        "**Fetching the Dataset**"
      ],
      "metadata": {
        "id": "L4ADu2pwFIoj"
      }
    },
    {
      "cell_type": "code",
      "source": [
        "train_dataset = torchvision.datasets.MNIST(root='./data',train=True, transform=transforms.ToTensor(),download=True)\n",
        "test_dataset = torchvision.datasets.MNIST(root='./data',train=False, transform=transforms.ToTensor())"
      ],
      "metadata": {
        "id": "FYzha40zMC11",
        "colab": {
          "base_uri": "https://localhost:8080/",
          "height": 429,
          "referenced_widgets": [
            "1a91b533c8e045388050511129c85485",
            "3cedaed3fe9f44d0b0203a6d795cc906",
            "b1ed5dfa3e384698b4cda94802543088",
            "769dd6f823dd4b44ac4bb5d60a396c3c",
            "ad681d26cb834576a2d9b09a98c8d0f3",
            "0ba0859c93754a2aa9458a094595324b",
            "97739b7b91cd43e5ba1665cf66efb32b",
            "472ba7382afb4682bdda0dd627aa7b8b",
            "c39e16bf34364153abfac523c59a4fb5",
            "c5dc3371e5be4f0f8e9788ebb795ddae",
            "7d4cc12adebf4567bc41f80cb50a24f2",
            "ceaffc9450304fcfba53b72230772c9b",
            "c26bdec9eef84ef3936ffec6ed9567a9",
            "2eebe538517e480889420e85af5742af",
            "c9009d66c9064c6f9bcbdd7d2240d7d7",
            "fe243b11cf854b5cafe8c7d864328e08",
            "bed843264077406db67d90b535967112",
            "10e7570d72484b0296605852c171f3ea",
            "d7c6166c937e408fabd425e058504807",
            "f770697f930747b2ac781abe1bfd7574",
            "0f16827fd3a849a4928e40fc3a79806f",
            "ac72657a5ac841b6bb6f92953f09d516",
            "6eeab0045f594e5aab3c746445735a13",
            "c110052bd29e49c79c1b40f970808819",
            "734390037c1242ea9d95e4f00eb70797",
            "521ecb315ce141cf931f309b2dc12948",
            "af89d06a53a0471aaa38b0f27dad6837",
            "948fa180fa88411abc9369ec688c6df2",
            "a32fd5d991ec436dac7105a73f517bb4",
            "10817027bf1b4306a35a1445a1a064b8",
            "05a3cc01bc57494386f357caaa9e725f",
            "156440e389834c6a98d69d58012c66db",
            "9aae32bd5a6d449680319434a222dd6e",
            "7e7280f09a8e4352911f0fd4bdd5e4d3",
            "41ca3c144d1f442a8b5553c67afb2742",
            "4c66f27e82284949be60247a83b902f5",
            "2666e6e5390d4f6e9585210f36f9e243",
            "4b55f67c42114895b397c4cac69d251f",
            "bff05d269e974decb23df88a31f2d510",
            "eb26d887f34d400fa40b5e2b33159d5e",
            "b3de3a8525764e9593e96dc78d0668a1",
            "e76c04543dd24e988f3cdd16359a0505",
            "450c19685c5c496da9e0471aa3020ba7",
            "e07201e9a3c34ca4ad2c7b664eafe504"
          ]
        },
        "outputId": "a311c3c0-b761-44e2-9d3f-6a720bc786af"
      },
      "execution_count": 3,
      "outputs": [
        {
          "output_type": "stream",
          "name": "stdout",
          "text": [
            "Downloading http://yann.lecun.com/exdb/mnist/train-images-idx3-ubyte.gz\n",
            "Downloading http://yann.lecun.com/exdb/mnist/train-images-idx3-ubyte.gz to ./data/MNIST/raw/train-images-idx3-ubyte.gz\n"
          ]
        },
        {
          "output_type": "display_data",
          "data": {
            "text/plain": [
              "  0%|          | 0/9912422 [00:00<?, ?it/s]"
            ],
            "application/vnd.jupyter.widget-view+json": {
              "version_major": 2,
              "version_minor": 0,
              "model_id": "1a91b533c8e045388050511129c85485"
            }
          },
          "metadata": {}
        },
        {
          "output_type": "stream",
          "name": "stdout",
          "text": [
            "Extracting ./data/MNIST/raw/train-images-idx3-ubyte.gz to ./data/MNIST/raw\n",
            "\n",
            "Downloading http://yann.lecun.com/exdb/mnist/train-labels-idx1-ubyte.gz\n",
            "Downloading http://yann.lecun.com/exdb/mnist/train-labels-idx1-ubyte.gz to ./data/MNIST/raw/train-labels-idx1-ubyte.gz\n"
          ]
        },
        {
          "output_type": "display_data",
          "data": {
            "text/plain": [
              "  0%|          | 0/28881 [00:00<?, ?it/s]"
            ],
            "application/vnd.jupyter.widget-view+json": {
              "version_major": 2,
              "version_minor": 0,
              "model_id": "ceaffc9450304fcfba53b72230772c9b"
            }
          },
          "metadata": {}
        },
        {
          "output_type": "stream",
          "name": "stdout",
          "text": [
            "Extracting ./data/MNIST/raw/train-labels-idx1-ubyte.gz to ./data/MNIST/raw\n",
            "\n",
            "Downloading http://yann.lecun.com/exdb/mnist/t10k-images-idx3-ubyte.gz\n",
            "Downloading http://yann.lecun.com/exdb/mnist/t10k-images-idx3-ubyte.gz to ./data/MNIST/raw/t10k-images-idx3-ubyte.gz\n"
          ]
        },
        {
          "output_type": "display_data",
          "data": {
            "text/plain": [
              "  0%|          | 0/1648877 [00:00<?, ?it/s]"
            ],
            "application/vnd.jupyter.widget-view+json": {
              "version_major": 2,
              "version_minor": 0,
              "model_id": "6eeab0045f594e5aab3c746445735a13"
            }
          },
          "metadata": {}
        },
        {
          "output_type": "stream",
          "name": "stdout",
          "text": [
            "Extracting ./data/MNIST/raw/t10k-images-idx3-ubyte.gz to ./data/MNIST/raw\n",
            "\n",
            "Downloading http://yann.lecun.com/exdb/mnist/t10k-labels-idx1-ubyte.gz\n",
            "Downloading http://yann.lecun.com/exdb/mnist/t10k-labels-idx1-ubyte.gz to ./data/MNIST/raw/t10k-labels-idx1-ubyte.gz\n"
          ]
        },
        {
          "output_type": "display_data",
          "data": {
            "text/plain": [
              "  0%|          | 0/4542 [00:00<?, ?it/s]"
            ],
            "application/vnd.jupyter.widget-view+json": {
              "version_major": 2,
              "version_minor": 0,
              "model_id": "7e7280f09a8e4352911f0fd4bdd5e4d3"
            }
          },
          "metadata": {}
        },
        {
          "output_type": "stream",
          "name": "stdout",
          "text": [
            "Extracting ./data/MNIST/raw/t10k-labels-idx1-ubyte.gz to ./data/MNIST/raw\n",
            "\n"
          ]
        }
      ]
    },
    {
      "cell_type": "markdown",
      "source": [
        "Loading the Data"
      ],
      "metadata": {
        "id": "U5ZEua6EFXPj"
      }
    },
    {
      "cell_type": "code",
      "source": [
        "train_loader = torch.utils.data.DataLoader(dataset=train_dataset, batch_size=32,shuffle=True)\n",
        "test_loader = torch.utils.data.DataLoader(dataset=test_dataset, batch_size=10000, shuffle=False)"
      ],
      "metadata": {
        "id": "zUZaRr3JL7U8"
      },
      "execution_count": 12,
      "outputs": []
    },
    {
      "cell_type": "markdown",
      "source": [
        "**DNN with Relu**"
      ],
      "metadata": {
        "id": "h2Ay35-NbhxF"
      }
    },
    {
      "cell_type": "code",
      "source": [
        "#DNN with Relu for pretraining\n",
        "\n",
        "class NeuralNet_Relu(nn.Module):\n",
        "     def __init__(self, input_size, hidden_size, num_classes):\n",
        "         super(NeuralNet_Relu, self).__init__()\n",
        "         self.input_size = input_size\n",
        "\n",
        "         #Input Layer\n",
        "         self.l=nn.Linear(input_size, hidden_size)\n",
        "\n",
        "         #Hidden Layer\n",
        "         self.l1 = nn.Linear(hidden_size, hidden_size) \n",
        "         self.relu = nn.ReLU()\n",
        "\n",
        "         #Output Layer\n",
        "         self.l2 = nn.Linear(hidden_size, num_classes)\n",
        "         self.softmax=nn.Softmax()\n",
        "\n",
        "\n",
        "     #Network(): Creating and appending Network Layer          \n",
        "     def Network(self):\n",
        "       self.Layers=[]\n",
        "       self.Layers.append(self.l)\n",
        "       for i in range(0,4):\n",
        "         self.Layers.append(self.l1) \n",
        "       self.Layers.append(self.l2)\n",
        "       return self.Layers\n",
        "\n",
        "\n",
        "     #Forward():Feed Forward Logic\n",
        "     def forward(self,x,Layers):\n",
        "         out=x\n",
        "         for i,Layer in enumerate(Layers):\n",
        "           if(i==5):\n",
        "             out=Layer(out)\n",
        "           else: \n",
        "             out = Layer(out)\n",
        "             out = self.relu(out)\n",
        "\n",
        "         return out"
      ],
      "metadata": {
        "id": "oyesho6pMkFh"
      },
      "execution_count": 13,
      "outputs": []
    },
    {
      "cell_type": "markdown",
      "source": [
        "**DNN for FLNPF**"
      ],
      "metadata": {
        "id": "zgClgfVQboaw"
      }
    },
    {
      "cell_type": "code",
      "source": [
        "#DNN Class For FLNPF\n",
        "class NeuralNet_NPF(nn.Module):\n",
        "     def __init__(self, input_size, hidden_size, num_classes):\n",
        "         super(NeuralNet_NPF, self).__init__()\n",
        "         self.input_size = input_size\n",
        "         #Input Layer\n",
        "         self.l=nn.Linear(input_size, hidden_size)\n",
        "\n",
        "         #Hidden Layer\n",
        "         self.l1 = nn.Linear(hidden_size, hidden_size) \n",
        "         self.relu = nn.ReLU()\n",
        "\n",
        "         #Output Layer\n",
        "         self.l2 = nn.Linear(hidden_size, num_classes)\n",
        "\n",
        "     #Create_Layer() : Appending all the Network layers together \n",
        "     def Create_Network_Layer(self):\n",
        "       self.Layers=[]\n",
        "       self.Layers.append(self.l)\n",
        "       for i in range(0,4):\n",
        "         self.Layers.append(self.l1) \n",
        "       self.Layers.append(self.l2)\n",
        "       return self.Layers\n",
        "\n",
        "     #forward(): Feed Forward the images \n",
        "     def forward(self,images,Layer_FLNPF):\n",
        "      XP=images\n",
        "      XV=images\n",
        "\n",
        "      #Feed Forward Logic\n",
        "      for j,layer in enumerate((Layer_FLNPF)):\n",
        "        if j==5:\n",
        "          outputs=layer(XV)\n",
        "        else:\n",
        "          XP=torch.relu(layer(XP))\n",
        "          XV=layer(XV)\n",
        "          G=torch.sign(XP)\n",
        "          XV=XV*G.detach()\n",
        "      \n",
        "      return outputs\n"
      ],
      "metadata": {
        "id": "kHhHs_4ww3Lk"
      },
      "execution_count": 14,
      "outputs": []
    },
    {
      "cell_type": "markdown",
      "source": [
        "***Model Generation and Training***"
      ],
      "metadata": {
        "id": "nBHnXcrGbs0B"
      }
    },
    {
      "cell_type": "code",
      "source": [
        "#Creating a DNN with Relu model\n",
        "\n",
        "Model_Relu = NeuralNet_Relu(input_size, hidden_size, num_classes)\n",
        "\n",
        "criterion = nn.CrossEntropyLoss()\n",
        "optimizer = torch.optim.Adam(Model_Relu.parameters(),lr=learning_rate)"
      ],
      "metadata": {
        "id": "4YLoiZTsMxKX"
      },
      "execution_count": 19,
      "outputs": []
    },
    {
      "cell_type": "code",
      "source": [
        "#Training the DNN with Relu\n",
        "\n",
        "Layers=Model_Relu.Network()\n",
        "\n",
        "n_total_steps = len(train_loader)\n",
        "\n",
        "for epoch in range(num_epochs):\n",
        "     for i, (images,labels) in enumerate(train_loader):  \n",
        "\n",
        "         images = images.reshape(-1, 28*28)\n",
        "         labels = labels\n",
        "\n",
        "         outputs = Model_Relu.forward(images,Layers)\n",
        "\n",
        "         loss = criterion(outputs, labels)\n",
        "         optimizer.zero_grad()\n",
        "         loss.backward()\n",
        "         optimizer.step()\n",
        "\n",
        "         if (i+1) % 100 == 0:\n",
        "             print (f'Epoch [{epoch+1}/{num_epochs}], Step[{i+1}/{n_total_steps}], Loss: {loss.item():.4f}')"
      ],
      "metadata": {
        "id": "Fjg0YpLbNCJU"
      },
      "execution_count": null,
      "outputs": []
    },
    {
      "cell_type": "markdown",
      "source": [
        "**Creating and Training FLNPF Model**"
      ],
      "metadata": {
        "id": "FID5iyfZb4-P"
      }
    },
    {
      "cell_type": "code",
      "source": [
        "#Loading the above Trained Relu Layer \n",
        "\n",
        "Layer_Relu=Model_Relu.Network()\n",
        "\n",
        "#Creating New FLNPF Model\n",
        "FLNPF_Model=NeuralNet_NPF(input_size, hidden_size, num_classes)\n",
        "\n",
        "Layer_FLNPF=FLNPF_Model.Create_Network_Layer()\n",
        "\n",
        "optimizer = torch.optim.Adam(FLNPF_Model.parameters(), lr=learning_rate)\n",
        "\n",
        "\n",
        "#Copying the Weights and biases from relu trained model to the new model\n",
        "for layer_relu,layer_FLNPF in zip(Layer_Relu,Layer_FLNPF):\n",
        "  layer_FLNPF.weight=layer_relu.weight\n",
        "  layer_FLNPF.bias=layer_relu.bias\n",
        "  layer_FLNPF.requires_grad=False\n",
        "\n",
        "\n",
        "#Training the New Model over train data\n",
        "final_train_acc=0\n",
        "for epoch in range(num_epochs):\n",
        "     n_samples=0\n",
        "     n_correct=0\n",
        "     for i, (images, labels) in enumerate(train_loader):  \n",
        "\n",
        "         images = images.reshape(-1, 28*28)\n",
        "         labels = labels\n",
        "\n",
        "         outputs=FLNPF_Model(images,Layer_FLNPF)\n",
        "\n",
        "         loss = criterion(outputs, labels)\n",
        "         optimizer.zero_grad()\n",
        "         loss.backward()\n",
        "         optimizer.step()\n",
        "\n",
        "         _, predicted = torch.max(outputs.data, 1)\n",
        "         n_samples += labels.size(0)\n",
        "         n_correct += (predicted == labels).sum().item()  \n",
        "\n",
        "         if (i+1) % 100 == 0:\n",
        "             print (f'Epoch [{epoch+1}/{num_epochs}], Step[{i+1}/{n_total_steps}], Loss: {loss.item():.4f}')\n",
        "\n",
        "\n",
        "     acc = 100.0 * n_correct / n_samples\n",
        "     print(\"------Epoch:\",epoch)\n",
        "     #Acuracy after every Epoch\n",
        "     print(\"Accuracy\",acc)\n",
        "     final_train_acc=max(final_train_acc,acc)\n",
        "     \n",
        "#Max Accuracy over all epochs\n",
        "print(\"Max Training Accuracy\")\n",
        "print(final_train_acc)"
      ],
      "metadata": {
        "id": "1nnPwfLEdQYv"
      },
      "execution_count": null,
      "outputs": []
    },
    {
      "cell_type": "markdown",
      "source": [
        "**Testing**\n",
        "\n",
        "> FLNPF Model\n",
        "\n",
        "\n"
      ],
      "metadata": {
        "id": "pjdykE0ZdHn5"
      }
    },
    {
      "cell_type": "code",
      "source": [
        "#Testing Over Test Data\n",
        "\n",
        "n_correct = 0\n",
        "n_samples = 0\n",
        "for images, labels in test_loader:\n",
        "\n",
        "  images = images.reshape(-1, 28*28)\n",
        "  labels = labels\n",
        "\n",
        "  outputs=FLNPF_Model(images,Layer_FLNPF)  \n",
        "\n",
        "  _, predicted = torch.max(outputs.data, 1)\n",
        "  n_samples += labels.size(0)\n",
        "  n_correct += (predicted == labels).sum().item()  \n",
        "  \n",
        "acc = 100.0 * n_correct / n_samples\n",
        "print(f'Accuracy of the network on the 10000 test images: {acc} %')"
      ],
      "metadata": {
        "colab": {
          "base_uri": "https://localhost:8080/"
        },
        "id": "1MSCj5gKh4fT",
        "outputId": "9bce8ff5-25de-4354-bc0e-bc6e86dbf213"
      },
      "execution_count": 23,
      "outputs": [
        {
          "output_type": "stream",
          "name": "stdout",
          "text": [
            "Accuracy of the network on the 10000 test images: 97.97 %\n"
          ]
        }
      ]
    },
    {
      "cell_type": "markdown",
      "source": [
        "**DNN for Decoupled Learning**"
      ],
      "metadata": {
        "id": "3kjTU6Omemcj"
      }
    },
    {
      "cell_type": "code",
      "source": [
        "\n",
        "class NeuralNet_DC(nn.Module):\n",
        "     def __init__(self, input_size, hidden_size, num_classes):\n",
        "         super(NeuralNet_DC, self).__init__()\n",
        "         #Input Layer\n",
        "         self.l=nn.Linear(input_size, hidden_size)\n",
        "\n",
        "         #Hidden Layer\n",
        "         self.l1 = nn.Linear(hidden_size, hidden_size) \n",
        "         self.relu = nn.ReLU()\n",
        "\n",
        "         self.l2 = nn.Linear(hidden_size, num_classes)\n",
        "\n",
        "     #Creating and appending networ Layers \n",
        "     def Network_Layer(self):\n",
        "       self.Gate=[]\n",
        "       self.input_size = input_size\n",
        "       self.Gate.append(self.l)\n",
        "       for i in range(0,4):\n",
        "         self.Gate.append(self.l1) \n",
        "       self.Gate.append(self.l2)\n",
        "\n",
        "     #Feed Forward Logic\n",
        "     def forward(self,images):\n",
        "      XP1=images\n",
        "      XV=images\n",
        "      beta=4\n",
        "      Gate=torch.nn.Sigmoid()\n",
        "      for j,layer in enumerate((self.Gate)):\n",
        "        if j==5:\n",
        "          outputs=layer(XV)\n",
        "        else:\n",
        "          XP=(layer(XP1))\n",
        "          XP1=torch.relu(XP)\n",
        "          XV=layer(XV)\n",
        "          G=Gate(beta*XP)\n",
        "          XV=XV*G.detach()\n",
        "      return outputs\n",
        "\n",
        "     def Network(self):\n",
        "      return self.Gate"
      ],
      "metadata": {
        "id": "AQ2Jox0L0jKe"
      },
      "execution_count": null,
      "outputs": []
    },
    {
      "cell_type": "code",
      "source": [
        "#Creating the Model\n",
        "modelDC = NeuralNet_DC(input_size, hidden_size, num_classes)\n",
        "criterion = nn.CrossEntropyLoss()\n",
        "optimizer = torch.optim.Adam(modelDC.parameters(), lr=learning_rate)\n",
        "modelDC.Network_Layer()"
      ],
      "metadata": {
        "id": "b_PJK-KE3Wx5"
      },
      "execution_count": null,
      "outputs": []
    },
    {
      "cell_type": "code",
      "source": [
        "#Training the DNN with Relu\n",
        "\n",
        "n_total_steps = len(train_loader)\n",
        "for epoch in range(num_epochs):\n",
        "     for i, (images, labels) in enumerate(train_loader):  \n",
        "\n",
        "         images = images.reshape(-1, 28*28)\n",
        "         labels = labels\n",
        "         outputs = modelDC.forward(images)\n",
        "         loss = criterion(outputs, labels)\n",
        "        \n",
        "         optimizer.zero_grad()\n",
        "         loss.backward()\n",
        "         optimizer.step()\n",
        "         if (i+1) % 100 == 0:\n",
        "             print (f'Epoch [{epoch+1}/{num_epochs}], Step[{i+1}/{n_total_steps}], Loss: {loss.item():.4f}')"
      ],
      "metadata": {
        "id": "o_EUYGZx3PDY"
      },
      "execution_count": null,
      "outputs": []
    },
    {
      "cell_type": "code",
      "source": [
        "#Testing the model \n",
        "n_correct = 0\n",
        "n_samples = 0\n",
        "for images, labels in test_loader:\n",
        "  print(images.shape)\n",
        "  images = images.reshape(-1, 28*28)\n",
        "  print(images.shape)\n",
        "  labels = labels\n",
        "  outputs = modelDC(images)\n",
        "  # max returns (value ,index)\n",
        "  _, predicted = torch.max(outputs.data, 1)\n",
        "  n_samples += labels.size(0)\n",
        "  n_correct += (predicted == labels).sum().item()  \n",
        "acc = 100.0 * n_correct / n_samples\n",
        "print(f'Accuracy of the network on the 10000 test images: {acc} %')"
      ],
      "metadata": {
        "colab": {
          "base_uri": "https://localhost:8080/"
        },
        "id": "QtlJQK9UvObl",
        "outputId": "e7c42cf9-6c77-4f6c-f4ff-a151b9036a0b"
      },
      "execution_count": null,
      "outputs": [
        {
          "output_type": "stream",
          "name": "stdout",
          "text": [
            "torch.Size([10000, 1, 28, 28])\n",
            "torch.Size([10000, 784])\n",
            "Accuracy of the network on the 10000 test images: 98.16 %\n"
          ]
        }
      ]
    }
  ]
}